{
 "cells": [
  {
   "cell_type": "code",
   "execution_count": null,
   "metadata": {},
   "outputs": [],
   "source": []
  },
  {
   "attachments": {},
   "cell_type": "markdown",
   "metadata": {},
   "source": [
    "This is a tutorial hexwatershed notebook. This tutorial is an example of the hexwatershed application using a Model for Prediction Across Scales (MPAS) mesh.\n",
    "\n",
    "The following publication includes a comprehensive application: \n",
    "\n",
    "The full documentation is hosted at: https://hexwatershed.readthedocs.io\n",
    "Before you can run this notebook, please check your python environment is setup correctly. You can use the Installation guide to setup the Python environment.\n",
    "\n",
    "\n",
    "After the installation, we can test whether the requirements are met or not."
   ]
  },
  {
   "cell_type": "code",
   "execution_count": null,
   "metadata": {},
   "outputs": [],
   "source": [
    "import hexwatershed"
   ]
  }
 ],
 "metadata": {
  "language_info": {
   "name": "python"
  },
  "orig_nbformat": 4
 },
 "nbformat": 4,
 "nbformat_minor": 2
}
